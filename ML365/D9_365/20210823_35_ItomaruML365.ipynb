{
 "cells": [
  {
   "cell_type": "markdown",
   "id": "0f93f1b7",
   "metadata": {},
   "source": [
    "# Chatbot using Python"
   ]
  },
  {
   "cell_type": "code",
   "execution_count": 3,
   "id": "9601dd50",
   "metadata": {},
   "outputs": [],
   "source": [
    "from nltk.chat.util import Chat, reflections"
   ]
  },
  {
   "cell_type": "code",
   "execution_count": 5,
   "id": "2f126739",
   "metadata": {},
   "outputs": [
    {
     "name": "stdout",
     "output_type": "stream",
     "text": [
      "^C\n"
     ]
    }
   ],
   "source": [
    "!python chatbot.py"
   ]
  },
  {
   "cell_type": "code",
   "execution_count": null,
   "id": "4cd03b31",
   "metadata": {},
   "outputs": [],
   "source": []
  }
 ],
 "metadata": {
  "kernelspec": {
   "display_name": "Python 3",
   "language": "python",
   "name": "python3"
  },
  "language_info": {
   "codemirror_mode": {
    "name": "ipython",
    "version": 3
   },
   "file_extension": ".py",
   "mimetype": "text/x-python",
   "name": "python",
   "nbconvert_exporter": "python",
   "pygments_lexer": "ipython3",
   "version": "3.7.11"
  }
 },
 "nbformat": 4,
 "nbformat_minor": 5
}

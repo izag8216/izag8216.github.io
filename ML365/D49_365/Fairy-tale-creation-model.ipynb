{
 "cells": [
  {
   "cell_type": "code",
   "execution_count": 1,
   "metadata": {
    "id": "cYqf9HCwhTOA"
   },
   "outputs": [
    {
     "name": "stderr",
     "output_type": "stream",
     "text": [
      "Cloning into 'japanese-pretrained-models'...\n"
     ]
    }
   ],
   "source": [
    "!git clone https://github.com/rinnakk/japanese-pretrained-models"
   ]
  },
  {
   "cell_type": "code",
   "execution_count": 1,
   "metadata": {
    "id": "xx8IpqhNZPAL"
   },
   "outputs": [
    {
     "name": "stdout",
     "output_type": "stream",
     "text": [
      "D:\\izag8216.github.io\\ML365\\D49_365\\japanese-pretrained-models\n"
     ]
    }
   ],
   "source": [
    "%cd ./japanese-pretrained-models"
   ]
  },
  {
   "cell_type": "code",
   "execution_count": 2,
   "metadata": {
    "id": "0DuEfHKCZhzC"
   },
   "outputs": [
    {
     "name": "stdout",
     "output_type": "stream",
     "text": [
      "Collecting torch>=1.7.1\n",
      "  Using cached torch-1.9.0-cp37-cp37m-win_amd64.whl (222.0 MB)\n",
      "Collecting transformers>=4.5.0\n",
      "  Using cached transformers-4.9.2-py3-none-any.whl (2.6 MB)\n",
      "Requirement already satisfied: tensorflow in c:\\users\\itomaru\\anaconda3\\envs\\tf\\lib\\site-packages (from -r requirements.txt (line 3)) (2.6.0)\n",
      "Requirement already satisfied: tensorboard in c:\\users\\itomaru\\anaconda3\\envs\\tf\\lib\\site-packages (from -r requirements.txt (line 4)) (2.6.0)\n",
      "Collecting sentencepiece\n",
      "  Downloading sentencepiece-0.1.96-cp37-cp37m-win_amd64.whl (1.1 MB)\n",
      "Requirement already satisfied: tqdm in c:\\users\\itomaru\\anaconda3\\envs\\tf\\lib\\site-packages (from -r requirements.txt (line 6)) (4.62.1)\n",
      "Collecting fugashi\n",
      "  Downloading fugashi-1.1.1-cp37-cp37m-win_amd64.whl (501 kB)\n",
      "Collecting unidic\n",
      "  Downloading unidic-1.0.3.tar.gz (5.1 kB)\n",
      "Requirement already satisfied: typing-extensions in c:\\users\\itomaru\\anaconda3\\envs\\tf\\lib\\site-packages (from torch>=1.7.1->-r requirements.txt (line 1)) (3.10.0.0)\n",
      "Collecting pyyaml>=5.1\n",
      "  Downloading PyYAML-5.4.1-cp37-cp37m-win_amd64.whl (210 kB)\n",
      "Requirement already satisfied: requests in c:\\users\\itomaru\\anaconda3\\envs\\tf\\lib\\site-packages (from transformers>=4.5.0->-r requirements.txt (line 2)) (2.26.0)\n",
      "Collecting tokenizers<0.11,>=0.10.1\n",
      "  Downloading tokenizers-0.10.3-cp37-cp37m-win_amd64.whl (2.0 MB)\n",
      "Collecting filelock\n",
      "  Using cached filelock-3.0.12-py3-none-any.whl (7.6 kB)\n",
      "Requirement already satisfied: importlib-metadata in c:\\users\\itomaru\\anaconda3\\envs\\tf\\lib\\site-packages (from transformers>=4.5.0->-r requirements.txt (line 2)) (4.6.3)\n",
      "Requirement already satisfied: numpy>=1.17 in c:\\users\\itomaru\\anaconda3\\envs\\tf\\lib\\site-packages (from transformers>=4.5.0->-r requirements.txt (line 2)) (1.21.2)\n",
      "Collecting sacremoses\n",
      "  Using cached sacremoses-0.0.45-py3-none-any.whl (895 kB)\n",
      "Requirement already satisfied: packaging in c:\\users\\itomaru\\anaconda3\\envs\\tf\\lib\\site-packages (from transformers>=4.5.0->-r requirements.txt (line 2)) (21.0)\n",
      "Collecting huggingface-hub==0.0.12\n",
      "  Using cached huggingface_hub-0.0.12-py3-none-any.whl (37 kB)\n",
      "Requirement already satisfied: regex!=2019.12.17 in c:\\users\\itomaru\\anaconda3\\envs\\tf\\lib\\site-packages (from transformers>=4.5.0->-r requirements.txt (line 2)) (2021.8.3)\n",
      "Requirement already satisfied: keras-preprocessing~=1.1.2 in c:\\users\\itomaru\\anaconda3\\envs\\tf\\lib\\site-packages (from tensorflow->-r requirements.txt (line 3)) (1.1.2)\n",
      "Collecting six~=1.15.0\n",
      "  Using cached six-1.15.0-py2.py3-none-any.whl (10 kB)\n",
      "Requirement already satisfied: wheel~=0.35 in c:\\users\\itomaru\\anaconda3\\envs\\tf\\lib\\site-packages (from tensorflow->-r requirements.txt (line 3)) (0.36.2)\n",
      "Requirement already satisfied: clang~=5.0 in c:\\users\\itomaru\\anaconda3\\envs\\tf\\lib\\site-packages (from tensorflow->-r requirements.txt (line 3)) (5.0)\n",
      "Requirement already satisfied: google-pasta~=0.2 in c:\\users\\itomaru\\anaconda3\\envs\\tf\\lib\\site-packages (from tensorflow->-r requirements.txt (line 3)) (0.2.0)\n",
      "Requirement already satisfied: h5py~=3.1.0 in c:\\users\\itomaru\\anaconda3\\envs\\tf\\lib\\site-packages (from tensorflow->-r requirements.txt (line 3)) (3.1.0)\n",
      "Requirement already satisfied: astunparse~=1.6.3 in c:\\users\\itomaru\\anaconda3\\envs\\tf\\lib\\site-packages (from tensorflow->-r requirements.txt (line 3)) (1.6.3)\n",
      "Requirement already satisfied: protobuf>=3.9.2 in c:\\users\\itomaru\\anaconda3\\envs\\tf\\lib\\site-packages (from tensorflow->-r requirements.txt (line 3)) (3.17.3)\n",
      "Requirement already satisfied: flatbuffers~=1.12.0 in c:\\users\\itomaru\\anaconda3\\envs\\tf\\lib\\site-packages (from tensorflow->-r requirements.txt (line 3)) (1.12)\n",
      "Requirement already satisfied: termcolor~=1.1.0 in c:\\users\\itomaru\\anaconda3\\envs\\tf\\lib\\site-packages (from tensorflow->-r requirements.txt (line 3)) (1.1.0)\n",
      "Requirement already satisfied: keras~=2.6 in c:\\users\\itomaru\\anaconda3\\envs\\tf\\lib\\site-packages (from tensorflow->-r requirements.txt (line 3)) (2.6.0)\n",
      "Requirement already satisfied: opt-einsum~=3.3.0 in c:\\users\\itomaru\\anaconda3\\envs\\tf\\lib\\site-packages (from tensorflow->-r requirements.txt (line 3)) (3.3.0)\n",
      "Requirement already satisfied: tensorflow-estimator~=2.6 in c:\\users\\itomaru\\anaconda3\\envs\\tf\\lib\\site-packages (from tensorflow->-r requirements.txt (line 3)) (2.6.0)\n",
      "Collecting typing-extensions\n",
      "  Using cached typing_extensions-3.7.4.3-py3-none-any.whl (22 kB)\n",
      "Requirement already satisfied: wrapt~=1.12.1 in c:\\users\\itomaru\\anaconda3\\envs\\tf\\lib\\site-packages (from tensorflow->-r requirements.txt (line 3)) (1.12.1)\n",
      "Requirement already satisfied: grpcio<2.0,>=1.37.0 in c:\\users\\itomaru\\anaconda3\\envs\\tf\\lib\\site-packages (from tensorflow->-r requirements.txt (line 3)) (1.39.0)\n",
      "Requirement already satisfied: absl-py~=0.10 in c:\\users\\itomaru\\anaconda3\\envs\\tf\\lib\\site-packages (from tensorflow->-r requirements.txt (line 3)) (0.13.0)\n",
      "Collecting numpy>=1.17\n",
      "  Using cached numpy-1.19.5-cp37-cp37m-win_amd64.whl (13.2 MB)\n",
      "Requirement already satisfied: gast==0.4.0 in c:\\users\\itomaru\\anaconda3\\envs\\tf\\lib\\site-packages (from tensorflow->-r requirements.txt (line 3)) (0.4.0)\n",
      "Requirement already satisfied: werkzeug>=0.11.15 in c:\\users\\itomaru\\anaconda3\\envs\\tf\\lib\\site-packages (from tensorboard->-r requirements.txt (line 4)) (2.0.1)\n",
      "Requirement already satisfied: google-auth-oauthlib<0.5,>=0.4.1 in c:\\users\\itomaru\\anaconda3\\envs\\tf\\lib\\site-packages (from tensorboard->-r requirements.txt (line 4)) (0.4.5)\n",
      "Requirement already satisfied: google-auth<2,>=1.6.3 in c:\\users\\itomaru\\anaconda3\\envs\\tf\\lib\\site-packages (from tensorboard->-r requirements.txt (line 4)) (1.34.0)\n",
      "Requirement already satisfied: tensorboard-data-server<0.7.0,>=0.6.0 in c:\\users\\itomaru\\anaconda3\\envs\\tf\\lib\\site-packages (from tensorboard->-r requirements.txt (line 4)) (0.6.1)\n",
      "Requirement already satisfied: markdown>=2.6.8 in c:\\users\\itomaru\\anaconda3\\envs\\tf\\lib\\site-packages (from tensorboard->-r requirements.txt (line 4)) (3.3.4)\n",
      "Requirement already satisfied: setuptools>=41.0.0 in c:\\users\\itomaru\\anaconda3\\envs\\tf\\lib\\site-packages (from tensorboard->-r requirements.txt (line 4)) (52.0.0.post20210125)\n",
      "Requirement already satisfied: tensorboard-plugin-wit>=1.6.0 in c:\\users\\itomaru\\anaconda3\\envs\\tf\\lib\\site-packages (from tensorboard->-r requirements.txt (line 4)) (1.8.0)\n",
      "Requirement already satisfied: colorama in c:\\users\\itomaru\\anaconda3\\envs\\tf\\lib\\site-packages (from tqdm->-r requirements.txt (line 6)) (0.4.4)\n",
      "Collecting wasabi<1.0.0,>=0.6.0\n",
      "  Using cached wasabi-0.8.2-py3-none-any.whl (23 kB)\n",
      "Collecting plac<2.0.0,>=1.1.3\n",
      "  Downloading plac-1.3.3-py2.py3-none-any.whl (22 kB)\n",
      "Requirement already satisfied: rsa<5,>=3.1.4 in c:\\users\\itomaru\\anaconda3\\envs\\tf\\lib\\site-packages (from google-auth<2,>=1.6.3->tensorboard->-r requirements.txt (line 4)) (4.7.2)\n",
      "Requirement already satisfied: cachetools<5.0,>=2.0.0 in c:\\users\\itomaru\\anaconda3\\envs\\tf\\lib\\site-packages (from google-auth<2,>=1.6.3->tensorboard->-r requirements.txt (line 4)) (4.2.2)\n",
      "Requirement already satisfied: pyasn1-modules>=0.2.1 in c:\\users\\itomaru\\anaconda3\\envs\\tf\\lib\\site-packages (from google-auth<2,>=1.6.3->tensorboard->-r requirements.txt (line 4)) (0.2.8)\n",
      "Requirement already satisfied: requests-oauthlib>=0.7.0 in c:\\users\\itomaru\\anaconda3\\envs\\tf\\lib\\site-packages (from google-auth-oauthlib<0.5,>=0.4.1->tensorboard->-r requirements.txt (line 4)) (1.3.0)\n",
      "Requirement already satisfied: cached-property in c:\\users\\itomaru\\anaconda3\\envs\\tf\\lib\\site-packages (from h5py~=3.1.0->tensorflow->-r requirements.txt (line 3)) (1.5.2)\n",
      "Requirement already satisfied: pyparsing>=2.0.2 in c:\\users\\itomaru\\anaconda3\\envs\\tf\\lib\\site-packages (from packaging->transformers>=4.5.0->-r requirements.txt (line 2)) (2.4.7)\n",
      "Requirement already satisfied: pyasn1<0.5.0,>=0.4.6 in c:\\users\\itomaru\\anaconda3\\envs\\tf\\lib\\site-packages (from pyasn1-modules>=0.2.1->google-auth<2,>=1.6.3->tensorboard->-r requirements.txt (line 4)) (0.4.8)\n",
      "Requirement already satisfied: urllib3<1.27,>=1.21.1 in c:\\users\\itomaru\\anaconda3\\envs\\tf\\lib\\site-packages (from requests->transformers>=4.5.0->-r requirements.txt (line 2)) (1.26.6)\n",
      "Requirement already satisfied: idna<4,>=2.5 in c:\\users\\itomaru\\anaconda3\\envs\\tf\\lib\\site-packages (from requests->transformers>=4.5.0->-r requirements.txt (line 2)) (3.2)\n",
      "Requirement already satisfied: certifi>=2017.4.17 in c:\\users\\itomaru\\anaconda3\\envs\\tf\\lib\\site-packages (from requests->transformers>=4.5.0->-r requirements.txt (line 2)) (2021.5.30)\n",
      "Requirement already satisfied: charset-normalizer~=2.0.0 in c:\\users\\itomaru\\anaconda3\\envs\\tf\\lib\\site-packages (from requests->transformers>=4.5.0->-r requirements.txt (line 2)) (2.0.4)\n",
      "Requirement already satisfied: oauthlib>=3.0.0 in c:\\users\\itomaru\\anaconda3\\envs\\tf\\lib\\site-packages (from requests-oauthlib>=0.7.0->google-auth-oauthlib<0.5,>=0.4.1->tensorboard->-r requirements.txt (line 4)) (3.1.1)\n",
      "Requirement already satisfied: zipp>=0.5 in c:\\users\\itomaru\\anaconda3\\envs\\tf\\lib\\site-packages (from importlib-metadata->transformers>=4.5.0->-r requirements.txt (line 2)) (3.5.0)\n",
      "Requirement already satisfied: click in c:\\users\\itomaru\\anaconda3\\envs\\tf\\lib\\site-packages (from sacremoses->transformers>=4.5.0->-r requirements.txt (line 2)) (7.1.2)\n",
      "Requirement already satisfied: joblib in c:\\users\\itomaru\\anaconda3\\envs\\tf\\lib\\site-packages (from sacremoses->transformers>=4.5.0->-r requirements.txt (line 2)) (1.0.1)\n",
      "Building wheels for collected packages: unidic\n",
      "  Building wheel for unidic (setup.py): started\n",
      "  Building wheel for unidic (setup.py): finished with status 'done'\n",
      "  Created wheel for unidic: filename=unidic-1.0.3-py3-none-any.whl size=5498 sha256=735056a310818743b1d86b19084a57bfd8c0429410097ecd0302c7e3e61e5d0a\n",
      "  Stored in directory: c:\\users\\itomaru\\appdata\\local\\pip\\cache\\wheels\\23\\30\\0b\\128289fb595ef4117d2976ffdbef5069ef83be813e88caa0a6\n",
      "Successfully built unidic\n",
      "Installing collected packages: typing-extensions, six, numpy, filelock, wasabi, tokenizers, sacremoses, pyyaml, plac, huggingface-hub, unidic, transformers, torch, sentencepiece, fugashi\n",
      "  Attempting uninstall: typing-extensions\n",
      "    Found existing installation: typing-extensions 3.10.0.0\n",
      "    Uninstalling typing-extensions-3.10.0.0:\n",
      "      Successfully uninstalled typing-extensions-3.10.0.0\n",
      "  Attempting uninstall: six\n",
      "    Found existing installation: six 1.16.0\n",
      "    Uninstalling six-1.16.0:\n",
      "      Successfully uninstalled six-1.16.0\n",
      "  Attempting uninstall: numpy\n",
      "    Found existing installation: numpy 1.21.2\n",
      "    Uninstalling numpy-1.21.2:\n",
      "      Successfully uninstalled numpy-1.21.2\n",
      "Successfully installed filelock-3.0.12 fugashi-1.1.1 huggingface-hub-0.0.12 numpy-1.19.5 plac-1.3.3 pyyaml-5.4.1 sacremoses-0.0.45 sentencepiece-0.1.96 six-1.15.0 tokenizers-0.10.3 torch-1.9.0 transformers-4.9.2 typing-extensions-3.7.4.3 unidic-1.0.3 wasabi-0.8.2\n"
     ]
    }
   ],
   "source": [
    "!pip install -r requirements.txt"
   ]
  },
  {
   "cell_type": "code",
   "execution_count": 3,
   "metadata": {
    "id": "uAp0TFCdoKCy"
   },
   "outputs": [
    {
     "data": {
      "application/vnd.jupyter.widget-view+json": {
       "model_id": "fe32497d4e394dbe96bac1620b3c3aab",
       "version_major": 2,
       "version_minor": 0
      },
      "text/plain": [
       "Downloading:   0%|          | 0.00/806k [00:00<?, ?B/s]"
      ]
     },
     "metadata": {},
     "output_type": "display_data"
    },
    {
     "data": {
      "application/vnd.jupyter.widget-view+json": {
       "model_id": "866794018aeb497e87bfe908277ff456",
       "version_major": 2,
       "version_minor": 0
      },
      "text/plain": [
       "Downloading:   0%|          | 0.00/153 [00:00<?, ?B/s]"
      ]
     },
     "metadata": {},
     "output_type": "display_data"
    },
    {
     "data": {
      "application/vnd.jupyter.widget-view+json": {
       "model_id": "e493540679dd448897f04cde2b1152a9",
       "version_major": 2,
       "version_minor": 0
      },
      "text/plain": [
       "Downloading:   0%|          | 0.00/282 [00:00<?, ?B/s]"
      ]
     },
     "metadata": {},
     "output_type": "display_data"
    },
    {
     "data": {
      "application/vnd.jupyter.widget-view+json": {
       "model_id": "320fead931bc4775a6a4afa23d360ab7",
       "version_major": 2,
       "version_minor": 0
      },
      "text/plain": [
       "Downloading:   0%|          | 0.00/799 [00:00<?, ?B/s]"
      ]
     },
     "metadata": {},
     "output_type": "display_data"
    },
    {
     "data": {
      "application/vnd.jupyter.widget-view+json": {
       "model_id": "43409575f2384e98bf6dec4097e8f347",
       "version_major": 2,
       "version_minor": 0
      },
      "text/plain": [
       "Downloading:   0%|          | 0.00/1.37G [00:00<?, ?B/s]"
      ]
     },
     "metadata": {},
     "output_type": "display_data"
    }
   ],
   "source": [
    "# ライブラリをインポートします。\n",
    "from transformers import T5Tokenizer, AutoModelForCausalLM\n",
    "\n",
    "# 学習済みモデルをダウンロードします。\n",
    "tokenizer = T5Tokenizer.from_pretrained(\"rinna/japanese-gpt2-medium\")\n",
    "tokenizer.do_lower_case = True  # due to some bug of tokenizer config loading\n",
    "model = AutoModelForCausalLM.from_pretrained(\"rinna/japanese-gpt2-medium\")"
   ]
  },
  {
   "cell_type": "code",
   "execution_count": 47,
   "metadata": {
    "id": "RypzyONK7zG6"
   },
   "outputs": [
    {
     "name": "stderr",
     "output_type": "stream",
     "text": [
      "Setting `pad_token_id` to `eos_token_id`:2 for open-end generation.\n"
     ]
    }
   ],
   "source": [
    "# 生成する文章の冒頭部分を設定します。\n",
    "beginning = '昔々あるところに、'\n",
    "# 文章を機械学習の入力とできるようコード化します。\n",
    "input = tokenizer.encode(beginning, return_tensors=\"pt\")\n",
    "# 文章の生成処理を実施します。（出力はコードで出力されます。）\n",
    "output = model.generate(input,do_sample=True,  max_length=100, num_return_sequences=5)\n",
    "# 出力されたコードを文章に戻します。\n",
    "DecodedOutput = tokenizer.batch_decode(output)"
   ]
  },
  {
   "cell_type": "code",
   "execution_count": 48,
   "metadata": {
    "colab": {
     "base_uri": "https://localhost:8080/"
    },
    "executionInfo": {
     "elapsed": 21,
     "status": "ok",
     "timestamp": 1630053877056,
     "user": {
      "displayName": "Junya Suzuki",
      "photoUrl": "",
      "userId": "06887977346027627558"
     },
     "user_tz": -540
    },
    "id": "nMhXtHhJLu5K",
    "outputId": "69a483d3-214e-43a3-9c0d-d655a1fbd064",
    "scrolled": false
   },
   "outputs": [
    {
     "name": "stdout",
     "output_type": "stream",
     "text": [
      "########################################\n",
      "冒頭が「昔々あるところに、」となる文章を出力します。\n",
      "########################################\n",
      "########################################\n",
      "### 文章案0 ####\n",
      "########################################\n",
      "昔々あるところに、 不思議な植物が繁茂していた。 その森には\n",
      "、いつもたくさんの精霊が住んでいて、 そして、そんな精霊たち\n",
      "を、私やお友達が癒していく物語。 夢とファンタジーが好きです\n",
      "。 心和むようなストーリーで いつも楽しみにしています。 魔\n",
      "法にかけられた王子が、自分を信じてくれるお友達を 皆癒してい\n",
      "くファンタジーが好きなんです。 魔法の力で、みんなをハッピー\n",
      "に出来たら最高だな～と思います\n",
      "########################################\n",
      "### 文章案1 ####\n",
      "########################################\n",
      "昔々あるところに、 美しい少女とおじいさんが住んでいた。 少\n",
      "女が一目ぼれして、女の子の服を買おうとしていた。 おじいさん\n",
      "は困ったようでもある。 少女の「あの人」が、少女に「あの人も\n",
      "あなたのお母さんと同じように娘想いだから。 あの子だから、と\n",
      "っても大きくなっていいんだよ」、と。 少女は「お母さん」に「\n",
      "そうだね」と言い残し、\n",
      "########################################\n",
      "### 文章案2 ####\n",
      "########################################\n",
      "昔々あるところに、 とんちゃんという名前の猫がいました。 そ\n",
      "の猫はある日、おなかがいっぱいになって、 と [...] 今\n",
      "日は、私の大好きなドラマ を3つご紹介したいと思います。 「\n",
      "名探偵モンク」 ・「リーガルハイ」 ・「今日から俺は!!」[\n",
      "...] みなさんは好きな作家さんっていますか?最近、久しぶ\n",
      "りに会って懐かしい顔ぶれが会\n",
      "########################################\n",
      "### 文章案3 ####\n",
      "########################################\n",
      "昔々あるところに、 心の強い神様だけが住み着き、 人々に 教\n",
      "えを説き、 時には 悪さをしたという、 伝説の場所がありまし\n",
      "た。 そこでは どんなに偉そうな人がいても 心は優しいのです\n",
      "。 しかし、 神様は一人ではなく 心の強さで 人を動かすので\n",
      "す。 ですから、 誰かが「心の強さ」を持っていると 、 人の\n",
      "心は動きます。 それを 神様は 見\n",
      "########################################\n",
      "### 文章案4 ####\n",
      "########################################\n",
      "昔々あるところに、 とある家のお隣さんが住んでいました。 と\n",
      "ある日 お隣さんのお父さんが 畑仕事をしていた時のことです。\n",
      " お父さんは... どうも、こんばんは。 いつもありがとう。\n",
      " 今日も読んでいただけて嬉しいです。 さて、あなたにとって今\n",
      "日はどんな日でしょうか。 先日のブログでも書... どうも。\n",
      " 今日も読んでいただけて嬉しいです。\n"
     ]
    }
   ],
   "source": [
    "print('#'*40)\n",
    "print(f'冒頭が「{beginning}」となる文章を出力します。')\n",
    "print('#'*40)\n",
    "for j in range(5):\n",
    "  print('#'*40)\n",
    "  print(f'### 文章案{j} ####')\n",
    "  print('#'*40)\n",
    "  i = 0\n",
    "  while i < len(DecodedOutput[j]):\n",
    "    print(DecodedOutput[j].replace('</s>','')[i:i+30]) \n",
    "    i = i+30"
   ]
  },
  {
   "cell_type": "code",
   "execution_count": null,
   "metadata": {
    "id": "es7jx3Suhamz"
   },
   "outputs": [],
   "source": []
  }
 ],
 "metadata": {
  "colab": {
   "authorship_tag": "ABX9TyOfYbgux216Y4SMZiCpTzCC",
   "collapsed_sections": [],
   "mount_file_id": "1xQ1-c5XbKjkwB4dtyCGv_8b6aE_o84sz",
   "name": "Fairy-tale-creation-model.ipynb",
   "provenance": []
  },
  "kernelspec": {
   "display_name": "Python 3",
   "language": "python",
   "name": "python3"
  },
  "language_info": {
   "codemirror_mode": {
    "name": "ipython",
    "version": 3
   },
   "file_extension": ".py",
   "mimetype": "text/x-python",
   "name": "python",
   "nbconvert_exporter": "python",
   "pygments_lexer": "ipython3",
   "version": "3.7.11"
  }
 },
 "nbformat": 4,
 "nbformat_minor": 1
}

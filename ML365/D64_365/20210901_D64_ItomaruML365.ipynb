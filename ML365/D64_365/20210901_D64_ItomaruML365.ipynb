{
 "cells": [
  {
   "cell_type": "code",
   "execution_count": 1,
   "id": "79c47aa5",
   "metadata": {},
   "outputs": [],
   "source": [
    "from rake_nltk import Rake\n",
    "rake_nltk_var = Rake()"
   ]
  },
  {
   "cell_type": "code",
   "execution_count": 2,
   "id": "6fa63c68",
   "metadata": {},
   "outputs": [],
   "source": [
    "text = \"\"\" I am a programmer from Japan, and I am here to guide you \n",
    "with Data Science, Machine Learning, Python, and C++ for free. \n",
    "I hope you will learn a lot in your journey towards Coding, \n",
    "Machine Learning and Artificial Intelligence with me.\"\"\""
   ]
  },
  {
   "cell_type": "code",
   "execution_count": 3,
   "id": "63305b1e",
   "metadata": {},
   "outputs": [
    {
     "name": "stdout",
     "output_type": "stream",
     "text": [
      "['journey towards coding', 'machine learning', 'data science', 'c ++', 'artificial intelligence', 'python', 'programmer', 'lot', 'learn', 'japan', 'hope', 'guide', 'free']\n"
     ]
    }
   ],
   "source": [
    "rake_nltk_var.extract_keywords_from_text(text)\n",
    "keyword_extracted = rake_nltk_var.get_ranked_phrases()\n",
    "print(keyword_extracted)"
   ]
  },
  {
   "cell_type": "code",
   "execution_count": 4,
   "id": "c4a27da9",
   "metadata": {},
   "outputs": [],
   "source": [
    "text = \"\"\" Hello, my name is Matt Lemanski. I am the creator of Speaking of English, a blog for intermediate English learners who want to become more fluent in the language. I am originally from the United States and I currently live in Germany. I have been a teacher since 2008, and specialize in business writing and IELTS preparation. Before becoming a teacher, I worked as a copyeditor for government agencies in Washington DC and as a ghostwriter for startup founders and independent consultants around the world. In my free time, I enjoy hiking, practicing photography, and exploring the city by bike.\"\"\""
   ]
  },
  {
   "cell_type": "code",
   "execution_count": 5,
   "id": "6883fedb",
   "metadata": {},
   "outputs": [
    {
     "name": "stdout",
     "output_type": "stream",
     "text": [
      "['independent consultants around', 'teacher since 2008', 'intermediate english learners', 'washington dc', 'united states', 'startup founders', 'practicing photography', 'matt lemanski', 'ielts preparation', 'government agencies', 'free time', 'enjoy hiking', 'currently live', 'business writing', 'teacher', 'english', 'world', 'worked', 'want', 'specialize', 'speaking', 'originally', 'name', 'language', 'hello', 'ghostwriter', 'germany', 'fluent', 'exploring', 'creator', 'copyeditor', 'city', 'blog', 'bike', 'becoming', 'become']\n"
     ]
    }
   ],
   "source": [
    "rake_nltk_var.extract_keywords_from_text(text)\n",
    "keyword_extracted = rake_nltk_var.get_ranked_phrases()\n",
    "print(keyword_extracted)"
   ]
  },
  {
   "cell_type": "code",
   "execution_count": null,
   "id": "9bc27ad3",
   "metadata": {},
   "outputs": [],
   "source": []
  }
 ],
 "metadata": {
  "kernelspec": {
   "display_name": "Python 3",
   "language": "python",
   "name": "python3"
  },
  "language_info": {
   "codemirror_mode": {
    "name": "ipython",
    "version": 3
   },
   "file_extension": ".py",
   "mimetype": "text/x-python",
   "name": "python",
   "nbconvert_exporter": "python",
   "pygments_lexer": "ipython3",
   "version": "3.7.11"
  }
 },
 "nbformat": 4,
 "nbformat_minor": 5
}

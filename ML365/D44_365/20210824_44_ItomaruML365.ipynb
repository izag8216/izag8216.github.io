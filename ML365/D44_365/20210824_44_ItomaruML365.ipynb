{
 "cells": [
  {
   "cell_type": "markdown",
   "id": "80e4f1e6",
   "metadata": {},
   "source": [
    "# Extract Keywords using Python"
   ]
  },
  {
   "cell_type": "code",
   "execution_count": 1,
   "id": "a4f850fc",
   "metadata": {
    "scrolled": true
   },
   "outputs": [
    {
     "name": "stdout",
     "output_type": "stream",
     "text": [
      "Collecting rake-nltk\n",
      "  Downloading rake_nltk-1.0.4.tar.gz (7.6 kB)\n",
      "Requirement already satisfied: nltk in c:\\users\\itomaru\\anaconda3\\envs\\tf\\lib\\site-packages (from rake-nltk) (3.6.2)\n",
      "Requirement already satisfied: tqdm in c:\\users\\itomaru\\anaconda3\\envs\\tf\\lib\\site-packages (from nltk->rake-nltk) (4.62.1)\n",
      "Requirement already satisfied: click in c:\\users\\itomaru\\anaconda3\\envs\\tf\\lib\\site-packages (from nltk->rake-nltk) (7.1.2)\n",
      "Requirement already satisfied: regex in c:\\users\\itomaru\\anaconda3\\envs\\tf\\lib\\site-packages (from nltk->rake-nltk) (2021.8.3)\n",
      "Requirement already satisfied: joblib in c:\\users\\itomaru\\anaconda3\\envs\\tf\\lib\\site-packages (from nltk->rake-nltk) (1.0.1)\n",
      "Requirement already satisfied: colorama in c:\\users\\itomaru\\anaconda3\\envs\\tf\\lib\\site-packages (from tqdm->nltk->rake-nltk) (0.4.4)\n",
      "Building wheels for collected packages: rake-nltk\n",
      "  Building wheel for rake-nltk (setup.py): started\n",
      "  Building wheel for rake-nltk (setup.py): finished with status 'done'\n",
      "  Created wheel for rake-nltk: filename=rake_nltk-1.0.4-py2.py3-none-any.whl size=7819 sha256=9fab4ca685d3bc1a917cedfd4a64c5967065228d9f82e4c1f3af9ab99399a109\n",
      "  Stored in directory: c:\\users\\itomaru\\appdata\\local\\pip\\cache\\wheels\\7c\\d9\\8a\\b8a9244fa89a07f288f9fe006aafc79d93fceb58496c29b606\n",
      "Successfully built rake-nltk\n",
      "Installing collected packages: rake-nltk\n",
      "Successfully installed rake-nltk-1.0.4\n"
     ]
    }
   ],
   "source": [
    "!pip install rake-nltk"
   ]
  },
  {
   "cell_type": "code",
   "execution_count": 2,
   "id": "e5eb2b09",
   "metadata": {},
   "outputs": [],
   "source": [
    "from rake_nltk import Rake\n",
    "rake_nltk_var = Rake()"
   ]
  },
  {
   "cell_type": "code",
   "execution_count": 3,
   "id": "29d8e885",
   "metadata": {},
   "outputs": [],
   "source": [
    "text = \"\"\" I am a programmer from Japan, and I am here to guide you \n",
    "with Data Science, Machine Learning, Python, and C++ for free. \n",
    "I hope you will learn a lot in your journey towards Coding, \n",
    "Machine Learning and Artificial Intelligence with me.\"\"\""
   ]
  },
  {
   "cell_type": "code",
   "execution_count": 4,
   "id": "4377b94e",
   "metadata": {},
   "outputs": [
    {
     "name": "stdout",
     "output_type": "stream",
     "text": [
      "['journey towards coding', 'machine learning', 'data science', 'c ++', 'artificial intelligence', 'python', 'programmer', 'lot', 'learn', 'japan', 'hope', 'guide', 'free']\n"
     ]
    }
   ],
   "source": [
    "rake_nltk_var.extract_keywords_from_text(text)\n",
    "keyword_extracted = rake_nltk_var.get_ranked_phrases()\n",
    "print(keyword_extracted)"
   ]
  },
  {
   "cell_type": "code",
   "execution_count": null,
   "id": "ec62903f",
   "metadata": {},
   "outputs": [],
   "source": []
  }
 ],
 "metadata": {
  "kernelspec": {
   "display_name": "Python 3",
   "language": "python",
   "name": "python3"
  },
  "language_info": {
   "codemirror_mode": {
    "name": "ipython",
    "version": 3
   },
   "file_extension": ".py",
   "mimetype": "text/x-python",
   "name": "python",
   "nbconvert_exporter": "python",
   "pygments_lexer": "ipython3",
   "version": "3.7.11"
  }
 },
 "nbformat": 4,
 "nbformat_minor": 5
}

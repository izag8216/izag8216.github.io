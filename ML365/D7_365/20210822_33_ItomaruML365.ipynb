{
 "cells": [
  {
   "cell_type": "markdown",
   "id": "3f4074d1",
   "metadata": {},
   "source": [
    "# Language Translator using Python\n",
    "\n",
    "## Google Translator API & Streamlit library\n",
    "\n",
    "."
   ]
  },
  {
   "cell_type": "code",
   "execution_count": 1,
   "id": "62f91b05",
   "metadata": {},
   "outputs": [
    {
     "name": "stdout",
     "output_type": "stream",
     "text": [
      "Collecting google_trans_new\n",
      "  Downloading google_trans_new-1.1.9-py3-none-any.whl (9.2 kB)\n",
      "Installing collected packages: google-trans-new\n",
      "Successfully installed google-trans-new-1.1.9\n"
     ]
    }
   ],
   "source": [
    "!pip install google_trans_new"
   ]
  },
  {
   "cell_type": "code",
   "execution_count": 7,
   "id": "868d9aa4",
   "metadata": {
    "scrolled": true
   },
   "outputs": [],
   "source": [
    "from google_trans_new import google_translator\n",
    "import streamlit as st\n",
    "translator = google_translator()\n",
    "st.title(\"Language Translator\")\n",
    "text = st.text_input(\"Enter a text\")\n",
    "translate = translator.translate(text, lang_tgt='fr')\n",
    "st.write(translate)"
   ]
  },
  {
   "cell_type": "code",
   "execution_count": 3,
   "id": "0c049fa3",
   "metadata": {},
   "outputs": [
    {
     "name": "stdout",
     "output_type": "stream",
     "text": [
      "Collecting streamlit\n",
      "  Downloading streamlit-0.87.0-py2.py3-none-any.whl (8.0 MB)\n",
      "Collecting gitpython!=3.1.19\n",
      "  Using cached GitPython-3.1.18-py3-none-any.whl (170 kB)\n",
      "Collecting watchdog\n",
      "  Downloading watchdog-2.1.4-py3-none-win_amd64.whl (75 kB)\n",
      "Collecting blinker\n",
      "  Using cached blinker-1.4-py3-none-any.whl\n",
      "Collecting validators\n",
      "  Using cached validators-0.18.2-py3-none-any.whl (19 kB)\n",
      "Requirement already satisfied: tornado>=5.0 in c:\\users\\itomaru\\anaconda3\\envs\\tf\\lib\\site-packages (from streamlit) (6.1)\n",
      "Collecting pydeck>=0.1.dev5\n",
      "  Using cached pydeck-0.6.2-py2.py3-none-any.whl (4.2 MB)\n",
      "Requirement already satisfied: python-dateutil in c:\\users\\itomaru\\anaconda3\\envs\\tf\\lib\\site-packages (from streamlit) (2.8.2)\n",
      "Requirement already satisfied: pillow>=6.2.0 in c:\\users\\itomaru\\anaconda3\\envs\\tf\\lib\\site-packages (from streamlit) (8.3.1)\n",
      "Collecting astor\n",
      "  Using cached astor-0.8.1-py2.py3-none-any.whl (27 kB)\n",
      "Collecting click<8.0,>=7.0\n",
      "  Using cached click-7.1.2-py2.py3-none-any.whl (82 kB)\n",
      "Requirement already satisfied: attrs in c:\\users\\itomaru\\anaconda3\\envs\\tf\\lib\\site-packages (from streamlit) (21.2.0)\n",
      "Requirement already satisfied: requests in c:\\users\\itomaru\\anaconda3\\envs\\tf\\lib\\site-packages (from streamlit) (2.26.0)\n",
      "Collecting tzlocal\n",
      "  Downloading tzlocal-3.0-py3-none-any.whl (16 kB)\n",
      "Requirement already satisfied: numpy in c:\\users\\itomaru\\anaconda3\\envs\\tf\\lib\\site-packages (from streamlit) (1.21.2)\n",
      "Requirement already satisfied: protobuf!=3.11,>=3.6.0 in c:\\users\\itomaru\\anaconda3\\envs\\tf\\lib\\site-packages (from streamlit) (3.17.3)\n",
      "Collecting toml\n",
      "  Using cached toml-0.10.2-py2.py3-none-any.whl (16 kB)\n",
      "Collecting altair>=3.2.0\n",
      "  Using cached altair-4.1.0-py3-none-any.whl (727 kB)\n",
      "Requirement already satisfied: cachetools>=4.0 in c:\\users\\itomaru\\anaconda3\\envs\\tf\\lib\\site-packages (from streamlit) (4.2.2)\n",
      "Requirement already satisfied: pandas>=0.21.0 in c:\\users\\itomaru\\anaconda3\\envs\\tf\\lib\\site-packages (from streamlit) (1.3.2)\n",
      "Collecting base58\n",
      "  Using cached base58-2.1.0-py3-none-any.whl (5.6 kB)\n",
      "Requirement already satisfied: packaging in c:\\users\\itomaru\\anaconda3\\envs\\tf\\lib\\site-packages (from streamlit) (21.0)\n",
      "Collecting pyarrow\n",
      "  Using cached pyarrow-5.0.0-cp37-cp37m-win_amd64.whl (14.4 MB)\n",
      "Requirement already satisfied: jinja2 in c:\\users\\itomaru\\anaconda3\\envs\\tf\\lib\\site-packages (from altair>=3.2.0->streamlit) (3.0.1)\n",
      "Collecting toolz\n",
      "  Using cached toolz-0.11.1-py3-none-any.whl (55 kB)\n",
      "Requirement already satisfied: entrypoints in c:\\users\\itomaru\\anaconda3\\envs\\tf\\lib\\site-packages (from altair>=3.2.0->streamlit) (0.3)\n",
      "Requirement already satisfied: jsonschema in c:\\users\\itomaru\\anaconda3\\envs\\tf\\lib\\site-packages (from altair>=3.2.0->streamlit) (3.2.0)\n",
      "Collecting gitdb<5,>=4.0.1\n",
      "  Using cached gitdb-4.0.7-py3-none-any.whl (63 kB)\n",
      "Requirement already satisfied: typing-extensions>=3.7.4.0 in c:\\users\\itomaru\\anaconda3\\envs\\tf\\lib\\site-packages (from gitpython!=3.1.19->streamlit) (3.10.0.0)\n",
      "Collecting smmap<5,>=3.0.1\n",
      "  Using cached smmap-4.0.0-py2.py3-none-any.whl (24 kB)\n",
      "Requirement already satisfied: pytz>=2017.3 in c:\\users\\itomaru\\anaconda3\\envs\\tf\\lib\\site-packages (from pandas>=0.21.0->streamlit) (2021.1)\n",
      "Requirement already satisfied: six>=1.9 in c:\\users\\itomaru\\anaconda3\\envs\\tf\\lib\\site-packages (from protobuf!=3.11,>=3.6.0->streamlit) (1.16.0)\n",
      "Collecting ipywidgets>=7.0.0\n",
      "  Using cached ipywidgets-7.6.3-py2.py3-none-any.whl (121 kB)\n",
      "Requirement already satisfied: ipykernel>=5.1.2 in c:\\users\\itomaru\\anaconda3\\envs\\tf\\lib\\site-packages (from pydeck>=0.1.dev5->streamlit) (5.3.4)\n",
      "Requirement already satisfied: traitlets>=4.3.2 in c:\\users\\itomaru\\anaconda3\\envs\\tf\\lib\\site-packages (from pydeck>=0.1.dev5->streamlit) (5.0.5)\n",
      "Requirement already satisfied: ipython>=5.0.0 in c:\\users\\itomaru\\anaconda3\\envs\\tf\\lib\\site-packages (from ipykernel>=5.1.2->pydeck>=0.1.dev5->streamlit) (7.26.0)\n",
      "Requirement already satisfied: jupyter-client in c:\\users\\itomaru\\anaconda3\\envs\\tf\\lib\\site-packages (from ipykernel>=5.1.2->pydeck>=0.1.dev5->streamlit) (6.1.12)\n",
      "Requirement already satisfied: backcall in c:\\users\\itomaru\\anaconda3\\envs\\tf\\lib\\site-packages (from ipython>=5.0.0->ipykernel>=5.1.2->pydeck>=0.1.dev5->streamlit) (0.2.0)\n",
      "Requirement already satisfied: decorator in c:\\users\\itomaru\\anaconda3\\envs\\tf\\lib\\site-packages (from ipython>=5.0.0->ipykernel>=5.1.2->pydeck>=0.1.dev5->streamlit) (5.0.9)\n",
      "Requirement already satisfied: colorama in c:\\users\\itomaru\\anaconda3\\envs\\tf\\lib\\site-packages (from ipython>=5.0.0->ipykernel>=5.1.2->pydeck>=0.1.dev5->streamlit) (0.4.4)\n",
      "Requirement already satisfied: matplotlib-inline in c:\\users\\itomaru\\anaconda3\\envs\\tf\\lib\\site-packages (from ipython>=5.0.0->ipykernel>=5.1.2->pydeck>=0.1.dev5->streamlit) (0.1.2)\n",
      "Requirement already satisfied: jedi>=0.16 in c:\\users\\itomaru\\anaconda3\\envs\\tf\\lib\\site-packages (from ipython>=5.0.0->ipykernel>=5.1.2->pydeck>=0.1.dev5->streamlit) (0.18.0)\n",
      "Requirement already satisfied: prompt-toolkit!=3.0.0,!=3.0.1,<3.1.0,>=2.0.0 in c:\\users\\itomaru\\anaconda3\\envs\\tf\\lib\\site-packages (from ipython>=5.0.0->ipykernel>=5.1.2->pydeck>=0.1.dev5->streamlit) (3.0.17)\n",
      "Requirement already satisfied: setuptools>=18.5 in c:\\users\\itomaru\\anaconda3\\envs\\tf\\lib\\site-packages (from ipython>=5.0.0->ipykernel>=5.1.2->pydeck>=0.1.dev5->streamlit) (52.0.0.post20210125)\n",
      "Requirement already satisfied: pygments in c:\\users\\itomaru\\anaconda3\\envs\\tf\\lib\\site-packages (from ipython>=5.0.0->ipykernel>=5.1.2->pydeck>=0.1.dev5->streamlit) (2.9.0)\n",
      "Requirement already satisfied: pickleshare in c:\\users\\itomaru\\anaconda3\\envs\\tf\\lib\\site-packages (from ipython>=5.0.0->ipykernel>=5.1.2->pydeck>=0.1.dev5->streamlit) (0.7.5)\n",
      "Requirement already satisfied: nbformat>=4.2.0 in c:\\users\\itomaru\\anaconda3\\envs\\tf\\lib\\site-packages (from ipywidgets>=7.0.0->pydeck>=0.1.dev5->streamlit) (5.1.3)\n",
      "Collecting jupyterlab-widgets>=1.0.0\n",
      "  Using cached jupyterlab_widgets-1.0.0-py3-none-any.whl (243 kB)\n",
      "Collecting widgetsnbextension~=3.5.0\n",
      "  Using cached widgetsnbextension-3.5.1-py2.py3-none-any.whl (2.2 MB)\n",
      "Requirement already satisfied: parso<0.9.0,>=0.8.0 in c:\\users\\itomaru\\anaconda3\\envs\\tf\\lib\\site-packages (from jedi>=0.16->ipython>=5.0.0->ipykernel>=5.1.2->pydeck>=0.1.dev5->streamlit) (0.8.2)\n",
      "Requirement already satisfied: MarkupSafe>=2.0 in c:\\users\\itomaru\\anaconda3\\envs\\tf\\lib\\site-packages (from jinja2->altair>=3.2.0->streamlit) (2.0.1)\n",
      "Requirement already satisfied: ipython-genutils in c:\\users\\itomaru\\anaconda3\\envs\\tf\\lib\\site-packages (from nbformat>=4.2.0->ipywidgets>=7.0.0->pydeck>=0.1.dev5->streamlit) (0.2.0)\n",
      "Requirement already satisfied: jupyter-core in c:\\users\\itomaru\\anaconda3\\envs\\tf\\lib\\site-packages (from nbformat>=4.2.0->ipywidgets>=7.0.0->pydeck>=0.1.dev5->streamlit) (4.7.1)\n",
      "Requirement already satisfied: importlib-metadata in c:\\users\\itomaru\\anaconda3\\envs\\tf\\lib\\site-packages (from jsonschema->altair>=3.2.0->streamlit) (4.6.3)\n",
      "Requirement already satisfied: pyrsistent>=0.14.0 in c:\\users\\itomaru\\anaconda3\\envs\\tf\\lib\\site-packages (from jsonschema->altair>=3.2.0->streamlit) (0.17.3)\n",
      "Requirement already satisfied: wcwidth in c:\\users\\itomaru\\anaconda3\\envs\\tf\\lib\\site-packages (from prompt-toolkit!=3.0.0,!=3.0.1,<3.1.0,>=2.0.0->ipython>=5.0.0->ipykernel>=5.1.2->pydeck>=0.1.dev5->streamlit) (0.2.5)\n",
      "Requirement already satisfied: notebook>=4.4.1 in c:\\users\\itomaru\\anaconda3\\envs\\tf\\lib\\site-packages (from widgetsnbextension~=3.5.0->ipywidgets>=7.0.0->pydeck>=0.1.dev5->streamlit) (6.4.2)\n",
      "Requirement already satisfied: prometheus-client in c:\\users\\itomaru\\anaconda3\\envs\\tf\\lib\\site-packages (from notebook>=4.4.1->widgetsnbextension~=3.5.0->ipywidgets>=7.0.0->pydeck>=0.1.dev5->streamlit) (0.11.0)\n",
      "Requirement already satisfied: Send2Trash>=1.5.0 in c:\\users\\itomaru\\anaconda3\\envs\\tf\\lib\\site-packages (from notebook>=4.4.1->widgetsnbextension~=3.5.0->ipywidgets>=7.0.0->pydeck>=0.1.dev5->streamlit) (1.5.0)\n",
      "Requirement already satisfied: argon2-cffi in c:\\users\\itomaru\\anaconda3\\envs\\tf\\lib\\site-packages (from notebook>=4.4.1->widgetsnbextension~=3.5.0->ipywidgets>=7.0.0->pydeck>=0.1.dev5->streamlit) (20.1.0)\n",
      "Requirement already satisfied: terminado>=0.8.3 in c:\\users\\itomaru\\anaconda3\\envs\\tf\\lib\\site-packages (from notebook>=4.4.1->widgetsnbextension~=3.5.0->ipywidgets>=7.0.0->pydeck>=0.1.dev5->streamlit) (0.9.4)\n",
      "Requirement already satisfied: pyzmq>=17 in c:\\users\\itomaru\\anaconda3\\envs\\tf\\lib\\site-packages (from notebook>=4.4.1->widgetsnbextension~=3.5.0->ipywidgets>=7.0.0->pydeck>=0.1.dev5->streamlit) (22.2.1)\n",
      "Requirement already satisfied: nbconvert in c:\\users\\itomaru\\anaconda3\\envs\\tf\\lib\\site-packages (from notebook>=4.4.1->widgetsnbextension~=3.5.0->ipywidgets>=7.0.0->pydeck>=0.1.dev5->streamlit) (6.1.0)\n",
      "Requirement already satisfied: pywin32>=1.0 in c:\\users\\itomaru\\anaconda3\\envs\\tf\\lib\\site-packages (from jupyter-core->nbformat>=4.2.0->ipywidgets>=7.0.0->pydeck>=0.1.dev5->streamlit) (228)\n",
      "Requirement already satisfied: pywinpty>=0.5 in c:\\users\\itomaru\\anaconda3\\envs\\tf\\lib\\site-packages (from terminado>=0.8.3->notebook>=4.4.1->widgetsnbextension~=3.5.0->ipywidgets>=7.0.0->pydeck>=0.1.dev5->streamlit) (0.5.7)\n",
      "Requirement already satisfied: cffi>=1.0.0 in c:\\users\\itomaru\\anaconda3\\envs\\tf\\lib\\site-packages (from argon2-cffi->notebook>=4.4.1->widgetsnbextension~=3.5.0->ipywidgets>=7.0.0->pydeck>=0.1.dev5->streamlit) (1.14.6)\n",
      "Requirement already satisfied: pycparser in c:\\users\\itomaru\\anaconda3\\envs\\tf\\lib\\site-packages (from cffi>=1.0.0->argon2-cffi->notebook>=4.4.1->widgetsnbextension~=3.5.0->ipywidgets>=7.0.0->pydeck>=0.1.dev5->streamlit) (2.20)\n",
      "Requirement already satisfied: zipp>=0.5 in c:\\users\\itomaru\\anaconda3\\envs\\tf\\lib\\site-packages (from importlib-metadata->jsonschema->altair>=3.2.0->streamlit) (3.5.0)\n",
      "Requirement already satisfied: defusedxml in c:\\users\\itomaru\\anaconda3\\envs\\tf\\lib\\site-packages (from nbconvert->notebook>=4.4.1->widgetsnbextension~=3.5.0->ipywidgets>=7.0.0->pydeck>=0.1.dev5->streamlit) (0.7.1)\n",
      "Requirement already satisfied: testpath in c:\\users\\itomaru\\anaconda3\\envs\\tf\\lib\\site-packages (from nbconvert->notebook>=4.4.1->widgetsnbextension~=3.5.0->ipywidgets>=7.0.0->pydeck>=0.1.dev5->streamlit) (0.5.0)\n",
      "Requirement already satisfied: bleach in c:\\users\\itomaru\\anaconda3\\envs\\tf\\lib\\site-packages (from nbconvert->notebook>=4.4.1->widgetsnbextension~=3.5.0->ipywidgets>=7.0.0->pydeck>=0.1.dev5->streamlit) (4.0.0)\n",
      "Requirement already satisfied: jupyterlab-pygments in c:\\users\\itomaru\\anaconda3\\envs\\tf\\lib\\site-packages (from nbconvert->notebook>=4.4.1->widgetsnbextension~=3.5.0->ipywidgets>=7.0.0->pydeck>=0.1.dev5->streamlit) (0.1.2)\n",
      "Requirement already satisfied: nbclient<0.6.0,>=0.5.0 in c:\\users\\itomaru\\anaconda3\\envs\\tf\\lib\\site-packages (from nbconvert->notebook>=4.4.1->widgetsnbextension~=3.5.0->ipywidgets>=7.0.0->pydeck>=0.1.dev5->streamlit) (0.5.3)\n",
      "Requirement already satisfied: pandocfilters>=1.4.1 in c:\\users\\itomaru\\anaconda3\\envs\\tf\\lib\\site-packages (from nbconvert->notebook>=4.4.1->widgetsnbextension~=3.5.0->ipywidgets>=7.0.0->pydeck>=0.1.dev5->streamlit) (1.4.3)\n",
      "Requirement already satisfied: mistune<2,>=0.8.1 in c:\\users\\itomaru\\anaconda3\\envs\\tf\\lib\\site-packages (from nbconvert->notebook>=4.4.1->widgetsnbextension~=3.5.0->ipywidgets>=7.0.0->pydeck>=0.1.dev5->streamlit) (0.8.4)\n",
      "Requirement already satisfied: nest-asyncio in c:\\users\\itomaru\\anaconda3\\envs\\tf\\lib\\site-packages (from nbclient<0.6.0,>=0.5.0->nbconvert->notebook>=4.4.1->widgetsnbextension~=3.5.0->ipywidgets>=7.0.0->pydeck>=0.1.dev5->streamlit) (1.5.1)\n",
      "Requirement already satisfied: async-generator in c:\\users\\itomaru\\anaconda3\\envs\\tf\\lib\\site-packages (from nbclient<0.6.0,>=0.5.0->nbconvert->notebook>=4.4.1->widgetsnbextension~=3.5.0->ipywidgets>=7.0.0->pydeck>=0.1.dev5->streamlit) (1.10)\n",
      "Requirement already satisfied: webencodings in c:\\users\\itomaru\\anaconda3\\envs\\tf\\lib\\site-packages (from bleach->nbconvert->notebook>=4.4.1->widgetsnbextension~=3.5.0->ipywidgets>=7.0.0->pydeck>=0.1.dev5->streamlit) (0.5.1)\n",
      "Requirement already satisfied: pyparsing>=2.0.2 in c:\\users\\itomaru\\anaconda3\\envs\\tf\\lib\\site-packages (from packaging->streamlit) (2.4.7)\n",
      "Requirement already satisfied: charset-normalizer~=2.0.0 in c:\\users\\itomaru\\anaconda3\\envs\\tf\\lib\\site-packages (from requests->streamlit) (2.0.4)\n",
      "Requirement already satisfied: certifi>=2017.4.17 in c:\\users\\itomaru\\anaconda3\\envs\\tf\\lib\\site-packages (from requests->streamlit) (2021.5.30)\n",
      "Requirement already satisfied: urllib3<1.27,>=1.21.1 in c:\\users\\itomaru\\anaconda3\\envs\\tf\\lib\\site-packages (from requests->streamlit) (1.26.6)\n",
      "Requirement already satisfied: idna<4,>=2.5 in c:\\users\\itomaru\\anaconda3\\envs\\tf\\lib\\site-packages (from requests->streamlit) (3.2)\n",
      "Collecting tzdata\n",
      "  Downloading tzdata-2021.1-py2.py3-none-any.whl (338 kB)\n",
      "Collecting backports.zoneinfo\n",
      "  Downloading backports.zoneinfo-0.2.1-cp37-cp37m-win_amd64.whl (38 kB)\n",
      "Installing collected packages: widgetsnbextension, smmap, jupyterlab-widgets, tzdata, toolz, ipywidgets, gitdb, backports.zoneinfo, watchdog, validators, tzlocal, toml, pydeck, pyarrow, gitpython, click, blinker, base58, astor, altair, streamlit\n",
      "  Attempting uninstall: click\n",
      "    Found existing installation: click 8.0.1\n",
      "    Uninstalling click-8.0.1:\n",
      "      Successfully uninstalled click-8.0.1\n",
      "Successfully installed altair-4.1.0 astor-0.8.1 backports.zoneinfo-0.2.1 base58-2.1.0 blinker-1.4 click-7.1.2 gitdb-4.0.7 gitpython-3.1.18 ipywidgets-7.6.3 jupyterlab-widgets-1.0.0 pyarrow-5.0.0 pydeck-0.6.2 smmap-4.0.0 streamlit-0.87.0 toml-0.10.2 toolz-0.11.1 tzdata-2021.1 tzlocal-3.0 validators-0.18.2 watchdog-2.1.4 widgetsnbextension-3.5.1\n"
     ]
    }
   ],
   "source": [
    "!pip install streamlit"
   ]
  },
  {
   "cell_type": "code",
   "execution_count": null,
   "id": "3e3da89f",
   "metadata": {},
   "outputs": [],
   "source": []
  }
 ],
 "metadata": {
  "kernelspec": {
   "display_name": "Python 3",
   "language": "python",
   "name": "python3"
  },
  "language_info": {
   "codemirror_mode": {
    "name": "ipython",
    "version": 3
   },
   "file_extension": ".py",
   "mimetype": "text/x-python",
   "name": "python",
   "nbconvert_exporter": "python",
   "pygments_lexer": "ipython3",
   "version": "3.7.11"
  }
 },
 "nbformat": 4,
 "nbformat_minor": 5
}
